{
  "nbformat": 4,
  "nbformat_minor": 0,
  "metadata": {
    "colab": {
      "provenance": [],
      "authorship_tag": "ABX9TyNtqK822C8yyYOsvNwdh5ov",
      "include_colab_link": true
    },
    "kernelspec": {
      "name": "python3",
      "display_name": "Python 3"
    },
    "language_info": {
      "name": "python"
    }
  },
  "cells": [
    {
      "cell_type": "markdown",
      "metadata": {
        "id": "view-in-github",
        "colab_type": "text"
      },
      "source": [
        "<a href=\"https://colab.research.google.com/github/haroldsantiago/FundamentosRN/blob/main/EcuacionesLinealesEjercicio.ipynb\" target=\"_parent\"><img src=\"https://colab.research.google.com/assets/colab-badge.svg\" alt=\"Open In Colab\"/></a>"
      ]
    },
    {
      "cell_type": "markdown",
      "source": [
        "*Ejercicio 1: Eliminación de Gauss aplicada en la retropropagación de redes neuronales*"
      ],
      "metadata": {
        "id": "mTFPOzO0r6iQ"
      }
    },
    {
      "cell_type": "markdown",
      "source": [
        "Planteamiento 1"
      ],
      "metadata": {
        "id": "B-PRn4ZGrZhu"
      }
    },
    {
      "cell_type": "code",
      "execution_count": 1,
      "metadata": {
        "colab": {
          "base_uri": "https://localhost:8080/"
        },
        "id": "aLHraYkpq2Az",
        "outputId": "237fdbbc-a6c3-4cd7-b6ee-4ae387435906"
      },
      "outputs": [
        {
          "output_type": "stream",
          "name": "stdout",
          "text": [
            "Solución del sistema (Planteamiento 1):\n",
            "g1 = -1.300000, g2 = 0.400000, g3 = 1.900000\n"
          ]
        }
      ],
      "source": [
        "import numpy as np\n",
        "\n",
        "# Matriz de coeficientes\n",
        "A = np.array([[2, 3, 1],\n",
        "              [4, 1, 2],\n",
        "              [3, 4, 2]], dtype=float)\n",
        "\n",
        "# Vector de términos independientes\n",
        "b = np.array([0.5, -1.0, 1.5], dtype=float)\n",
        "\n",
        "# Resolviendo el sistema de ecuaciones usando eliminación de Gauss\n",
        "sol = np.linalg.solve(A, b)\n",
        "\n",
        "# Mostrar la solución\n",
        "print(\"Solución del sistema (Planteamiento 1):\")\n",
        "print(f\"g1 = {sol[0]:.6f}, g2 = {sol[1]:.6f}, g3 = {sol[2]:.6f}\")\n"
      ]
    },
    {
      "cell_type": "markdown",
      "source": [
        "Planteamiento 2"
      ],
      "metadata": {
        "id": "0inb9h95rW6A"
      }
    },
    {
      "cell_type": "code",
      "source": [
        "# Matriz de coeficientes\n",
        "A = np.array([[3, -0.1, -0.2],\n",
        "              [0.1, 0.7, -0.3],\n",
        "              [0.3, -0.2, 10]], dtype=float)\n",
        "\n",
        "# Vector de términos independientes\n",
        "b = np.array([7.85, -19.3, 71.4], dtype=float)\n",
        "\n",
        "# Resolviendo el sistema de ecuaciones usando eliminación de Gauss\n",
        "sol = np.linalg.solve(A, b)\n",
        "\n",
        "# Mostrar la solución\n",
        "print(\"Solución del sistema (Planteamiento 2):\")\n",
        "print(f\"g1 = {sol[0]:.6f}, g2 = {sol[1]:.6f}, g3 = {sol[2]:.6f}\")\n"
      ],
      "metadata": {
        "colab": {
          "base_uri": "https://localhost:8080/"
        },
        "id": "xU_Q1qlarNcO",
        "outputId": "a630eee2-f1de-4f94-86e8-74088abd46e9"
      },
      "execution_count": 2,
      "outputs": [
        {
          "output_type": "stream",
          "name": "stdout",
          "text": [
            "Solución del sistema (Planteamiento 2):\n",
            "g1 = 2.219070, g2 = -25.071871, g3 = 6.571990\n"
          ]
        }
      ]
    },
    {
      "cell_type": "markdown",
      "source": [
        "*Ejercicio 2:  Matriz Inversa para calcular los pesos ajustados*"
      ],
      "metadata": {
        "id": "7ZHQTynOsBzo"
      }
    },
    {
      "cell_type": "code",
      "source": [
        "# Matriz de coeficientes\n",
        "A = np.array([[3, -0.1, -0.2],\n",
        "              [0.1, 0.7, -0.3],\n",
        "              [0.3, -0.2, 10]], dtype=float)\n",
        "\n",
        "# Vector de términos independientes\n",
        "b = np.array([7.85, -19.3, 71.4], dtype=float)\n",
        "\n",
        "# Calcular la matriz inversa\n",
        "A_inv = np.linalg.inv(A)\n",
        "\n",
        "# Multiplicar A_inv por el vector b\n",
        "sol = np.dot(A_inv, b)\n",
        "\n",
        "# Mostrar la solución\n",
        "print(\"Pesos ajustados usando la matriz inversa:\")\n",
        "print(f\"w1 = {sol[0]:.4f}, w2 = {sol[1]:.4f}, w3 = {sol[2]:.4f}\")\n"
      ],
      "metadata": {
        "colab": {
          "base_uri": "https://localhost:8080/"
        },
        "id": "aGWvEJnxrdOH",
        "outputId": "c2ceb7bc-d3fd-4c5a-8ab0-91e7ad377b88"
      },
      "execution_count": 3,
      "outputs": [
        {
          "output_type": "stream",
          "name": "stdout",
          "text": [
            "Pesos ajustados usando la matriz inversa:\n",
            "w1 = 2.2191, w2 = -25.0719, w3 = 6.5720\n"
          ]
        }
      ]
    },
    {
      "cell_type": "markdown",
      "source": [
        "*Ejercicio 3: Método de Jacobi aplicado a la actualización de los parámetros de la red*"
      ],
      "metadata": {
        "id": "KjblAJt5sM6h"
      }
    },
    {
      "cell_type": "code",
      "source": [
        "def jacobi(A, b, x0, tol=1e-10, max_iter=1000):\n",
        "    n = len(b)\n",
        "    x = x0\n",
        "    for k in range(max_iter):\n",
        "        x_new = np.zeros_like(x)\n",
        "        for i in range(n):\n",
        "            s = sum(A[i][j] * x[j] for j in range(n) if i != j)\n",
        "            x_new[i] = (b[i] - s) / A[i][i]\n",
        "        if np.linalg.norm(x_new - x, ord=np.inf) < tol:\n",
        "            return x_new\n",
        "        x = x_new\n",
        "    return x\n",
        "\n",
        "# Matriz de coeficientes\n",
        "A = np.array([[3, -0.1, -0.2],\n",
        "              [0.1, 0.7, -0.3],\n",
        "              [0.3, -0.2, 10]], dtype=float)\n",
        "\n",
        "# Vector de términos independientes\n",
        "b = np.array([7.85, -19.3, 71.4], dtype=float)\n",
        "\n",
        "# Aproximación inicial\n",
        "x0 = np.zeros_like(b)\n",
        "\n",
        "# Aplicar el método de Jacobi\n",
        "sol = jacobi(A, b, x0)\n",
        "\n",
        "print(\"Pesos ajustados usando Jacobi:\")\n",
        "print(sol)\n"
      ],
      "metadata": {
        "colab": {
          "base_uri": "https://localhost:8080/"
        },
        "id": "GFPUVF91rnYG",
        "outputId": "2ecbb93b-dd5f-4090-f3c5-cabe6e9cf538"
      },
      "execution_count": 4,
      "outputs": [
        {
          "output_type": "stream",
          "name": "stdout",
          "text": [
            "Pesos ajustados usando Jacobi:\n",
            "[  2.21907032 -25.07187128   6.57199046]\n"
          ]
        }
      ]
    },
    {
      "cell_type": "markdown",
      "source": [
        "*Ejercicio 4: Método Iterativo de Gauss-Seidel para actualización de parámetros*"
      ],
      "metadata": {
        "id": "4gcFCvTpsQSz"
      }
    },
    {
      "cell_type": "code",
      "source": [
        "def gauss_seidel(A, b, x0, tol=1e-10, max_iter=1000):\n",
        "    n = len(b)\n",
        "    x = x0\n",
        "    for k in range(max_iter):\n",
        "        x_new = np.copy(x)\n",
        "        for i in range(n):\n",
        "            s1 = sum(A[i][j] * x_new[j] for j in range(i))\n",
        "            s2 = sum(A[i][j] * x[j] for j in range(i+1, n))\n",
        "            x_new[i] = (b[i] - s1 - s2) / A[i][i]\n",
        "        if np.linalg.norm(x_new - x, ord=np.inf) < tol:\n",
        "            return x_new, k\n",
        "        x = x_new\n",
        "    return x, max_iter\n",
        "\n",
        "# Matriz de coeficientes\n",
        "A = np.array([[10, -1, 2],\n",
        "              [-1, 11, -1],\n",
        "              [2, -1, 10]], dtype=float)\n",
        "\n",
        "# Vector de términos independientes\n",
        "b = np.array([5, 6, 7], dtype=float)\n",
        "\n",
        "# Aproximación inicial\n",
        "x0 = np.zeros_like(b)\n",
        "\n",
        "# Aplicar el método de Gauss-Seidel\n",
        "sol, iteraciones = gauss_seidel(A, b, x0)\n",
        "\n",
        "print(\"Pesos ajustados usando Gauss-Seidel:\")\n",
        "print(sol)\n",
        "print(f\"Número de iteraciones: {iteraciones}\")\n"
      ],
      "metadata": {
        "colab": {
          "base_uri": "https://localhost:8080/"
        },
        "id": "_8dIy89rry2N",
        "outputId": "37d9a4ac-aa40-4c6d-a283-f25458e19d40"
      },
      "execution_count": 5,
      "outputs": [
        {
          "output_type": "stream",
          "name": "stdout",
          "text": [
            "Pesos ajustados usando Gauss-Seidel:\n",
            "[0.42884615 0.64615385 0.67884615]\n",
            "Número de iteraciones: 8\n"
          ]
        }
      ]
    },
    {
      "cell_type": "markdown",
      "source": [
        "*Ejercicio 5: Descomposición de Cholesky aplicada a una red neuronal*"
      ],
      "metadata": {
        "id": "ywodarKVsWV2"
      }
    },
    {
      "cell_type": "code",
      "source": [
        "from scipy.linalg import cholesky\n",
        "\n",
        "# Matriz de coeficientes\n",
        "A = np.array([[25, 15, -5],\n",
        "              [15, 18, 0],\n",
        "              [-5, 0, 11]], dtype=float)\n",
        "\n",
        "# Vector de términos independientes\n",
        "b = np.array([350, 400, 200], dtype=float)\n",
        "\n",
        "# Descomposición de Cholesky\n",
        "L = cholesky(A, lower=True)\n",
        "\n",
        "# Resolver Ly = b\n",
        "y = np.linalg.solve(L, b)\n",
        "\n",
        "# Resolver L^T x = y\n",
        "x = np.linalg.solve(L.T, y)\n",
        "\n",
        "print(\"Pesos ajustados usando Cholesky:\")\n",
        "print(x)\n"
      ],
      "metadata": {
        "colab": {
          "base_uri": "https://localhost:8080/"
        },
        "id": "TnAHoFvIr2k6",
        "outputId": "55346b22-ef59-46a6-ee59-dd351939d9ea"
      },
      "execution_count": 6,
      "outputs": [
        {
          "output_type": "stream",
          "name": "stdout",
          "text": [
            "Pesos ajustados usando Cholesky:\n",
            "[10.51851852 13.45679012 22.96296296]\n"
          ]
        }
      ]
    }
  ]
}