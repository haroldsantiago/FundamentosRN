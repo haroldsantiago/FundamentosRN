{
  "nbformat": 4,
  "nbformat_minor": 0,
  "metadata": {
    "colab": {
      "provenance": [],
      "authorship_tag": "ABX9TyOxJCAZy3bukNe5nuklYdXV",
      "include_colab_link": true
    },
    "kernelspec": {
      "name": "python3",
      "display_name": "Python 3"
    },
    "language_info": {
      "name": "python"
    }
  },
  "cells": [
    {
      "cell_type": "markdown",
      "metadata": {
        "id": "view-in-github",
        "colab_type": "text"
      },
      "source": [
        "<a href=\"https://colab.research.google.com/github/haroldsantiago/FundamentosRN/blob/main/Red_Neuronal_General_con_TensorFlow_y_Keras_harold.ipynb\" target=\"_parent\"><img src=\"https://colab.research.google.com/assets/colab-badge.svg\" alt=\"Open In Colab\"/></a>"
      ]
    },
    {
      "cell_type": "code",
      "execution_count": null,
      "metadata": {
        "colab": {
          "base_uri": "https://localhost:8080/"
        },
        "id": "tkvFG-udoLK4",
        "outputId": "15c191d1-cdd8-4897-8828-bc5b6f2ace6a"
      },
      "outputs": [
        {
          "output_type": "stream",
          "name": "stderr",
          "text": [
            "/usr/local/lib/python3.11/dist-packages/keras/src/layers/core/dense.py:87: UserWarning: Do not pass an `input_shape`/`input_dim` argument to a layer. When using Sequential models, prefer using an `Input(shape)` object as the first layer in the model instead.\n",
            "  super().__init__(activity_regularizer=activity_regularizer, **kwargs)\n"
          ]
        }
      ],
      "source": [
        "import tensorflow as tf\n",
        "from tensorflow import keras\n",
        "import numpy as np\n",
        "import matplotlib.pyplot as plt\n",
        "\n",
        "# Datos de entrada (ejemplo: problema binario)\n",
        "x = np.array([\n",
        "    [0, 0], [0, 1], [1, 0], [1, 1]\n",
        "]) # Entradas (2 características)\n",
        "\n",
        "# Salidas esperadas (ejemplo: compuerta XOR)\n",
        "y = np.array([\n",
        "    [0], [1], [1], [0]\n",
        "]) # Salidas esperadas (0 o 1)\n",
        "\n",
        "# Definir la red neuronal\n",
        "modelo = keras.Sequential([\n",
        "    keras.layers.Dense(4, activation='relu', input_shape=(2,)), # Capa oculta con 4 neuronas y activación ReLU\n",
        "    keras.layers.Dense(4, activation='relu'), # Segunda capa oculta con 4 neuronas\n",
        "    keras.layers.Dense(1, activation='sigmoid') # Capa de salida con 1 neurona y activación sigmoide\n",
        "])\n",
        "\n",
        "# Compilar el modelo\n",
        "modelo.compile(optimizer='adam', loss='binary_crossentropy', metrics=['accuracy'])\n",
        "\n",
        "# Entrenar el modelo y guardar el historial de entrenamiento\n",
        "historial = modelo.fit(x, y, epochs=1000, verbose=0)\n",
        "\n",
        "# Imprimir los resultados de las predicciones\n",
        "print(\"Resultados: \")\n",
        "for entrada in x:\n",
        "    salida = modelo.predict(np.array([entrada]))\n",
        "    print(f\"Entrada: {entrada}, -> Salida: {salida.round()}\")\n",
        "\n",
        "# Graficar la precisión (accuracy) a lo largo de las épocas\n",
        "epocas = range(1, 1001)\n",
        "accuracy = historial.history['accuracy']\n",
        "\n",
        "plt.plot(epocas, accuracy, label='Precisión (Accuracy)')\n",
        "plt.xlabel('Épocas')\n",
        "plt.ylabel('Precisión')\n",
        "plt.title('Precisión del Modelo a lo largo de las Épocas')\n",
        "plt.legend()\n",
        "plt.grid(True)\n",
        "plt.show()\n"
      ]
    }
  ]
}