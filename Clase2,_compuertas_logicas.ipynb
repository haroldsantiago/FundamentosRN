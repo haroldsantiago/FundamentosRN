{
  "nbformat": 4,
  "nbformat_minor": 0,
  "metadata": {
    "colab": {
      "provenance": [],
      "authorship_tag": "ABX9TyO3JKsVDCzJtw7wDC4fY3qt",
      "include_colab_link": true
    },
    "kernelspec": {
      "name": "python3",
      "display_name": "Python 3"
    },
    "language_info": {
      "name": "python"
    }
  },
  "cells": [
    {
      "cell_type": "markdown",
      "metadata": {
        "id": "view-in-github",
        "colab_type": "text"
      },
      "source": [
        "<a href=\"https://colab.research.google.com/github/haroldsantiago/FundamentosRN/blob/main/Clase2%2C_compuertas_logicas.ipynb\" target=\"_parent\"><img src=\"https://colab.research.google.com/assets/colab-badge.svg\" alt=\"Open In Colab\"/></a>"
      ]
    },
    {
      "cell_type": "markdown",
      "source": [
        "Compuerta AND"
      ],
      "metadata": {
        "id": "zPQpJX9-O0RP"
      }
    },
    {
      "source": [
        "import numpy as np\n",
        "\n",
        "class McCullochPittsNeuron:\n",
        "  def __init__(self, weights, threshold): # Changed _init_ to __init__\n",
        "    self.weights = np.array(weights)\n",
        "    self.threshold = threshold\n",
        "\n",
        "  def activate(self, inputs):\n",
        "    inputs = np.array(inputs)\n",
        "    weighted_sum = np.dot(self.weights, inputs)\n",
        "    return 1 if weighted_sum >= self.threshold else 0\n",
        "\n",
        "weights = [1,1] #pesos de la neurona\n",
        "threshold = 2 #umbral\n",
        "\n",
        "neuron = McCullochPittsNeuron(weights, threshold)\n",
        "inputs_list =[(0,0), (0,1), (1,0), (1,1)]\n",
        "\n",
        "#evaluar la neurona\n",
        "for inputs in inputs_list:\n",
        "  output = neuron.activate(inputs) # Llama al método con el nombre correcto\n",
        "  print(f\"Inputs: {inputs} Output: {output}\")"
      ],
      "cell_type": "code",
      "metadata": {
        "colab": {
          "base_uri": "https://localhost:8080/"
        },
        "id": "HjIzYJGtM4hv",
        "outputId": "e0b0af44-55b0-495f-d06a-2bd3433dce08"
      },
      "execution_count": 10,
      "outputs": [
        {
          "output_type": "stream",
          "name": "stdout",
          "text": [
            "Inputs: (0, 0) Output: 0\n",
            "Inputs: (0, 1) Output: 0\n",
            "Inputs: (1, 0) Output: 0\n",
            "Inputs: (1, 1) Output: 1\n"
          ]
        }
      ]
    },
    {
      "cell_type": "markdown",
      "source": [
        "Compuerta OR"
      ],
      "metadata": {
        "id": "4q9XjGBvODpn"
      }
    },
    {
      "cell_type": "code",
      "source": [
        "import numpy as np\n",
        "\n",
        "class McCullochPittsNeuron:\n",
        "  def __init__(self, weights, threshold): # Changed _init_ to __init__\n",
        "    self.weights = np.array(weights)\n",
        "    self.threshold = threshold\n",
        "\n",
        "  def activate(self, inputs):\n",
        "    inputs = np.array(inputs)\n",
        "    weighted_sum = np.dot(self.weights, inputs)\n",
        "    return 1 if weighted_sum >= self.threshold else 0\n",
        "\n",
        "weights = [1,1] #pesos de la neurona\n",
        "threshold = 1 #umbral\n",
        "\n",
        "neuron = McCullochPittsNeuron(weights, threshold)\n",
        "inputs_list =[(0,0), (0,1), (1,0), (1,1)]\n",
        "\n",
        "#evaluar la neurona\n",
        "for inputs in inputs_list:\n",
        "  output = neuron.activate(inputs) # Llama al método con el nombre correcto\n",
        "  print(f\"Inputs: {inputs} Output: {output}\")"
      ],
      "metadata": {
        "colab": {
          "base_uri": "https://localhost:8080/"
        },
        "id": "A_n1kUArN4fi",
        "outputId": "0db96d82-d92d-46c8-d689-d64d55474e49"
      },
      "execution_count": 11,
      "outputs": [
        {
          "output_type": "stream",
          "name": "stdout",
          "text": [
            "Inputs: (0, 0) Output: 0\n",
            "Inputs: (0, 1) Output: 1\n",
            "Inputs: (1, 0) Output: 1\n",
            "Inputs: (1, 1) Output: 1\n"
          ]
        }
      ]
    },
    {
      "cell_type": "markdown",
      "source": [
        "compuerta NAND"
      ],
      "metadata": {
        "id": "IKw_4GJJOHjm"
      }
    },
    {
      "cell_type": "code",
      "source": [
        "import numpy as np\n",
        "\n",
        "class McCullochPittsNeuron:\n",
        "  def __init__(self, weights, threshold): # Changed _init_ to __init__\n",
        "    self.weights = np.array(weights)\n",
        "    self.threshold = threshold\n",
        "\n",
        "  def activate(self, inputs):\n",
        "    inputs = np.array(inputs)\n",
        "    weighted_sum = np.dot(self.weights, inputs)\n",
        "    return 1 if weighted_sum >= self.threshold else 0\n",
        "\n",
        "weights = [-1,-1] #pesos de la neurona\n",
        "threshold = -1 #umbral\n",
        "\n",
        "neuron = McCullochPittsNeuron(weights, threshold)\n",
        "inputs_list =[(0,0), (0,1), (1,0), (1,1)]\n",
        "\n",
        "#evaluar la neurona\n",
        "for inputs in inputs_list:\n",
        "  output = neuron.activate(inputs) # Llama al método con el nombre correcto\n",
        "  print(f\"Inputs: {inputs} Output: {output}\")"
      ],
      "metadata": {
        "colab": {
          "base_uri": "https://localhost:8080/"
        },
        "id": "dgqAhpHHOASb",
        "outputId": "75997860-6873-4c3b-fe2f-3243b981500e"
      },
      "execution_count": 12,
      "outputs": [
        {
          "output_type": "stream",
          "name": "stdout",
          "text": [
            "Inputs: (0, 0) Output: 1\n",
            "Inputs: (0, 1) Output: 1\n",
            "Inputs: (1, 0) Output: 1\n",
            "Inputs: (1, 1) Output: 0\n"
          ]
        }
      ]
    },
    {
      "cell_type": "markdown",
      "source": [
        "Compuerta NOR"
      ],
      "metadata": {
        "id": "MDmflN_KOOU8"
      }
    },
    {
      "cell_type": "code",
      "source": [
        "import numpy as np\n",
        "\n",
        "class McCullochPittsNeuron:\n",
        "  def __init__(self, weights, threshold): # Changed _init_ to __init__\n",
        "    self.weights = np.array(weights)\n",
        "    self.threshold = threshold\n",
        "\n",
        "  def activate(self, inputs):\n",
        "    inputs = np.array(inputs)\n",
        "    weighted_sum = np.dot(self.weights, inputs)\n",
        "    return 1 if weighted_sum >= self.threshold else 0\n",
        "\n",
        "weights = [-1,-1] #pesos de la neurona\n",
        "threshold = 0 #umbral\n",
        "\n",
        "neuron = McCullochPittsNeuron(weights, threshold)\n",
        "inputs_list =[(0,0), (0,1), (1,0), (1,1)]\n",
        "\n",
        "#evaluar la neurona\n",
        "for inputs in inputs_list:\n",
        "  output = neuron.activate(inputs) # Llama al método con el nombre correcto\n",
        "  print(f\"Inputs: {inputs} Output: {output}\")"
      ],
      "metadata": {
        "colab": {
          "base_uri": "https://localhost:8080/"
        },
        "id": "U6O1Ew9iORTO",
        "outputId": "ef2b3f09-4461-4e15-f10d-d40eb42fc079"
      },
      "execution_count": 13,
      "outputs": [
        {
          "output_type": "stream",
          "name": "stdout",
          "text": [
            "Inputs: (0, 0) Output: 1\n",
            "Inputs: (0, 1) Output: 0\n",
            "Inputs: (1, 0) Output: 0\n",
            "Inputs: (1, 1) Output: 0\n"
          ]
        }
      ]
    },
    {
      "cell_type": "markdown",
      "source": [
        "Compuerta NOT"
      ],
      "metadata": {
        "id": "J1Hx8nDeOVup"
      }
    },
    {
      "cell_type": "code",
      "source": [
        "import numpy as np\n",
        "\n",
        "class McCullochPittsNeuron:\n",
        "  def __init__(self, weights, threshold): # Changed _init_ to __init__\n",
        "    self.weights = np.array(weights)\n",
        "    self.threshold = threshold\n",
        "\n",
        "  def activate(self, inputs):\n",
        "    inputs = np.array(inputs)\n",
        "    weighted_sum = np.dot(self.weights, inputs)\n",
        "    return 1 if weighted_sum >= self.threshold else 0\n",
        "\n",
        "weights = [-1] #pesos de la neurona\n",
        "threshold = 0 #umbral\n",
        "\n",
        "neuron = McCullochPittsNeuron(weights, threshold)\n",
        "inputs_list =[(0), (1)]\n",
        "\n",
        "#evaluar la neurona\n",
        "for inputs in inputs_list:\n",
        "  output = neuron.activate(inputs) # Llama al método con el nombre correcto\n",
        "  print(f\"Inputs: {inputs} Output: {output}\")"
      ],
      "metadata": {
        "colab": {
          "base_uri": "https://localhost:8080/"
        },
        "id": "3kujiunrOXnP",
        "outputId": "03911dab-47ef-4784-a6de-b2addb6c63ad"
      },
      "execution_count": 15,
      "outputs": [
        {
          "output_type": "stream",
          "name": "stdout",
          "text": [
            "Inputs: 0 Output: 1\n",
            "Inputs: 1 Output: 0\n"
          ]
        }
      ]
    }
  ]
}